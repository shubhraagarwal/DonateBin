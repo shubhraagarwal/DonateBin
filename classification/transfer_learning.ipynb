{
  "cells": [
    {
      "cell_type": "code",
      "execution_count": 1,
      "metadata": {
        "colab": {
          "base_uri": "https://localhost:8080/"
        },
        "id": "bAEnHBZdA1KX",
        "outputId": "7a713eb4-3592-4561-a427-4ceb78024089"
      },
      "outputs": [],
      "source": [
        "# !unzip 'dataset.zip'"
      ]
    },
    {
      "cell_type": "code",
      "execution_count": 7,
      "metadata": {
        "id": "zbE7HPQbA0_I"
      },
      "outputs": [],
      "source": [
        "!rm -rf '__MACOSX'"
      ]
    },
    {
      "cell_type": "code",
      "execution_count": 8,
      "metadata": {
        "id": "J_muY0sqFDw3"
      },
      "outputs": [],
      "source": [
        "import os\n",
        "import torch\n",
        "import pandas as pd\n",
        "from skimage import io, transform\n",
        "import numpy as np\n",
        "import matplotlib.pyplot as plt\n",
        "from torch.utils.data import Dataset, DataLoader\n",
        "from torchvision import transforms, utils, datasets, models\n",
        "import torch.nn as nn\n",
        "from PIL import Image\n",
        "import torch.nn.functional as F\n",
        "import torch.optim as optim"
      ]
    },
    {
      "cell_type": "code",
      "execution_count": 49,
      "metadata": {
        "colab": {
          "base_uri": "https://localhost:8080/",
          "height": 419
        },
        "id": "ZVktLVb6FU4I",
        "outputId": "536547ed-9399-4a1c-e70f-aa1fb66b2dde"
      },
      "outputs": [
        {
          "data": {
            "text/html": [
              "<div>\n",
              "<style scoped>\n",
              "    .dataframe tbody tr th:only-of-type {\n",
              "        vertical-align: middle;\n",
              "    }\n",
              "\n",
              "    .dataframe tbody tr th {\n",
              "        vertical-align: top;\n",
              "    }\n",
              "\n",
              "    .dataframe thead th {\n",
              "        text-align: right;\n",
              "    }\n",
              "</style>\n",
              "<table border=\"1\" class=\"dataframe\">\n",
              "  <thead>\n",
              "    <tr style=\"text-align: right;\">\n",
              "      <th></th>\n",
              "      <th>id</th>\n",
              "      <th>label</th>\n",
              "      <th>path</th>\n",
              "    </tr>\n",
              "  </thead>\n",
              "  <tbody>\n",
              "    <tr>\n",
              "      <th>0</th>\n",
              "      <td>bedt_0.jpg</td>\n",
              "      <td>bed</td>\n",
              "      <td>images/bedt_0.jpg</td>\n",
              "    </tr>\n",
              "    <tr>\n",
              "      <th>1</th>\n",
              "      <td>bedt_1.jpg</td>\n",
              "      <td>bed</td>\n",
              "      <td>images/bedt_1.jpg</td>\n",
              "    </tr>\n",
              "    <tr>\n",
              "      <th>2</th>\n",
              "      <td>bedt_2.jpg</td>\n",
              "      <td>bed</td>\n",
              "      <td>images/bedt_2.jpg</td>\n",
              "    </tr>\n",
              "    <tr>\n",
              "      <th>3</th>\n",
              "      <td>bedt_3.jpg</td>\n",
              "      <td>bed</td>\n",
              "      <td>images/bedt_3.jpg</td>\n",
              "    </tr>\n",
              "    <tr>\n",
              "      <th>4</th>\n",
              "      <td>bedt_4.jpg</td>\n",
              "      <td>bed</td>\n",
              "      <td>images/bedt_4.jpg</td>\n",
              "    </tr>\n",
              "    <tr>\n",
              "      <th>...</th>\n",
              "      <td>...</td>\n",
              "      <td>...</td>\n",
              "      <td>...</td>\n",
              "    </tr>\n",
              "    <tr>\n",
              "      <th>49086</th>\n",
              "      <td>fad_27070.jpg</td>\n",
              "      <td>Casual Shoes</td>\n",
              "      <td>images/fad_27070.jpg</td>\n",
              "    </tr>\n",
              "    <tr>\n",
              "      <th>49087</th>\n",
              "      <td>fad_16559.jpg</td>\n",
              "      <td>Flip Flops</td>\n",
              "      <td>images/fad_16559.jpg</td>\n",
              "    </tr>\n",
              "    <tr>\n",
              "      <th>49088</th>\n",
              "      <td>fad_29176.jpg</td>\n",
              "      <td>Tshirts</td>\n",
              "      <td>images/fad_29176.jpg</td>\n",
              "    </tr>\n",
              "    <tr>\n",
              "      <th>49089</th>\n",
              "      <td>fad_22512.jpg</td>\n",
              "      <td>Perfume and Body Mist</td>\n",
              "      <td>images/fad_22512.jpg</td>\n",
              "    </tr>\n",
              "    <tr>\n",
              "      <th>49090</th>\n",
              "      <td>fad_6026.jpg</td>\n",
              "      <td>Watches</td>\n",
              "      <td>images/fad_6026.jpg</td>\n",
              "    </tr>\n",
              "  </tbody>\n",
              "</table>\n",
              "<p>49091 rows × 3 columns</p>\n",
              "</div>"
            ],
            "text/plain": [
              "                  id                  label                  path\n",
              "0         bedt_0.jpg                    bed     images/bedt_0.jpg\n",
              "1         bedt_1.jpg                    bed     images/bedt_1.jpg\n",
              "2         bedt_2.jpg                    bed     images/bedt_2.jpg\n",
              "3         bedt_3.jpg                    bed     images/bedt_3.jpg\n",
              "4         bedt_4.jpg                    bed     images/bedt_4.jpg\n",
              "...              ...                    ...                   ...\n",
              "49086  fad_27070.jpg           Casual Shoes  images/fad_27070.jpg\n",
              "49087  fad_16559.jpg             Flip Flops  images/fad_16559.jpg\n",
              "49088  fad_29176.jpg                Tshirts  images/fad_29176.jpg\n",
              "49089  fad_22512.jpg  Perfume and Body Mist  images/fad_22512.jpg\n",
              "49090   fad_6026.jpg                Watches   images/fad_6026.jpg\n",
              "\n",
              "[49091 rows x 3 columns]"
            ]
          },
          "execution_count": 49,
          "metadata": {},
          "output_type": "execute_result"
        }
      ],
      "source": [
        "df = pd.read_csv('labels.csv')\n",
        "df"
      ]
    },
    {
      "cell_type": "code",
      "execution_count": 50,
      "metadata": {},
      "outputs": [],
      "source": [
        "labels_to_drop = ['Kurtas','Heels', 'Sunglasses','Flip Flops','Briefs','Belts','Socks', 'Formal Shoes',\n",
        "       'Perfume and Body Mist','Flats','Bra','Deodorant',\n",
        "       'Nail Polish', 'Lipstick', 'Track Pants', 'Clutches',\n",
        "       'Sweatshirts', 'Caps', 'Sweaters', 'Ties', 'Jackets',\n",
        "       'Innerwear Vests', 'Kurtis', 'Tunics', 'Nightdress',\n",
        "       'Leggings', 'Pendant', 'Capris', 'Necklace and Chains',\n",
        "       'Lip Gloss', 'Night suits', 'Trunk', 'Skirts', 'Scarves', 'Ring',\n",
        "       'Dupatta', 'Accessory Gift Set', 'Cufflinks', 'Kajal and Eyeliner',\n",
        "       'Kurta Sets', 'Free Gifts', 'Stoles', 'Duffel Bag', 'Bangle',\n",
        "       'Laptop Bag', 'Foundation and Primer', 'Sports Sandals',\n",
        "       'Bracelet', 'Face Moisturisers', 'Lounge Pants', 'Jewellery Set',\n",
        "       'Fragrance Gift Set', 'Highlighter and Blush', 'Boxers', 'Compact',\n",
        "       'Lip Liner', 'Mobile Pouch', 'Messenger Bag', 'Eyeshadow',\n",
        "       'Suspenders', 'Camisoles', 'Mufflers', 'Patiala', 'Lounge Shorts',\n",
        "       'Jeggings', 'Stockings', 'Salwar', 'Churidar', 'Tracksuits',\n",
        "       'Face Wash and Cleanser', 'Sunscreen', 'Shoe Accessories',\n",
        "       'Bath Robe', 'Gloves', 'Hair Colour', 'Rain Jacket', 'Swimwear',\n",
        "       'Waist Pouch', 'Travel Accessory', 'Baby Dolls', 'Jumpsuit',\n",
        "       'Lip Care', 'Waistcoat', 'Basketballs', 'Mascara', 'Mask and Peel',\n",
        "       'Rompers', 'Booties', 'Water Bottle', 'Rucksacks', 'Concealer',\n",
        "       'Shapewear', 'Tights', 'Footballs', 'Blazers', 'Clothing Set',\n",
        "       'Headband', 'Wristbands', 'Salwar and Dupatta', 'Body Lotion',\n",
        "       'Eye Cream', 'Nail Essentials', 'Umbrellas', 'Shrug',\n",
        "       'Face Scrub and Exfoliator', 'Toner', 'Nehru Jackets',\n",
        "       'Lehenga Choli', 'Robe', 'Lip Plumper', 'Makeup Remover',\n",
        "       'Beauty Accessory', 'Lounge Tshirts', 'Trolley Bag',\n",
        "       'Tablet Sleeve', 'Hat', 'Face Serum and Gel', 'Key chain',\n",
        "       'Ties and Cufflinks', 'Rain Trousers', 'Hair Accessory',\n",
        "       'Mens Grooming Kit', 'Shoe Laces', 'Cushion Covers',\n",
        "       'Body Wash and Scrub', 'Suits', 'Ipad', 'Earrings','Shorts',\n",
        "        'Shirts','Watches', 'Sports Shoes','Handbags','sw', \n",
        "        'Wallets','Sandals','Trousers','Sarees', 'Tops', \n",
        "        'sofa','bed','Backpacks', 'Dresses', 'phone','table']"
      ]
    },
    {
      "cell_type": "code",
      "execution_count": 51,
      "metadata": {},
      "outputs": [],
      "source": [
        "indices = []\n",
        "for i, label in enumerate(df['label']):\n",
        "  if label in labels_to_drop:\n",
        "    indices.append(i)"
      ]
    },
    {
      "cell_type": "code",
      "execution_count": 52,
      "metadata": {},
      "outputs": [],
      "source": [
        "df.drop(df.index[indices], inplace = True)"
      ]
    },
    {
      "cell_type": "code",
      "execution_count": 53,
      "metadata": {},
      "outputs": [
        {
          "data": {
            "text/plain": [
              "array(['Tshirts', 'Casual Shoes', 'chair', 'Jeans'], dtype=object)"
            ]
          },
          "execution_count": 53,
          "metadata": {},
          "output_type": "execute_result"
        }
      ],
      "source": [
        "df['label'].value_counts().keys().values"
      ]
    },
    {
      "cell_type": "code",
      "execution_count": 54,
      "metadata": {},
      "outputs": [],
      "source": [
        "indices = []\n",
        "for i, label in enumerate(df['label']):\n",
        "  if label == 'Casual Shoes':\n",
        "    indices.append(i)"
      ]
    },
    {
      "cell_type": "code",
      "execution_count": 55,
      "metadata": {},
      "outputs": [],
      "source": [
        "indices_to_drop = np.random.choice(indices, 1846)"
      ]
    },
    {
      "cell_type": "code",
      "execution_count": 57,
      "metadata": {},
      "outputs": [],
      "source": [
        "indices = []\n",
        "for i, label in enumerate(df['label']):\n",
        "  if label == 'Tshirts':\n",
        "    indices.append(i)"
      ]
    },
    {
      "cell_type": "code",
      "execution_count": 58,
      "metadata": {},
      "outputs": [],
      "source": [
        "indices_to_drop = np.random.choice(indices, 6070)"
      ]
    },
    {
      "cell_type": "code",
      "execution_count": 56,
      "metadata": {},
      "outputs": [],
      "source": [
        "df.drop(df.index[indices_to_drop], inplace = True)"
      ]
    },
    {
      "cell_type": "code",
      "execution_count": 59,
      "metadata": {},
      "outputs": [],
      "source": [
        "df.drop(df.index[indices_to_drop], inplace = True)"
      ]
    },
    {
      "cell_type": "code",
      "execution_count": 72,
      "metadata": {},
      "outputs": [],
      "source": [
        "df.reset_index(drop = True, inplace = True)"
      ]
    },
    {
      "cell_type": "code",
      "execution_count": 73,
      "metadata": {},
      "outputs": [
        {
          "data": {
            "text/html": [
              "<div>\n",
              "<style scoped>\n",
              "    .dataframe tbody tr th:only-of-type {\n",
              "        vertical-align: middle;\n",
              "    }\n",
              "\n",
              "    .dataframe tbody tr th {\n",
              "        vertical-align: top;\n",
              "    }\n",
              "\n",
              "    .dataframe thead th {\n",
              "        text-align: right;\n",
              "    }\n",
              "</style>\n",
              "<table border=\"1\" class=\"dataframe\">\n",
              "  <thead>\n",
              "    <tr style=\"text-align: right;\">\n",
              "      <th></th>\n",
              "      <th>id</th>\n",
              "      <th>label</th>\n",
              "      <th>path</th>\n",
              "    </tr>\n",
              "  </thead>\n",
              "  <tbody>\n",
              "    <tr>\n",
              "      <th>0</th>\n",
              "      <td>chairt_0.jpg</td>\n",
              "      <td>chair</td>\n",
              "      <td>images/chairt_0.jpg</td>\n",
              "    </tr>\n",
              "    <tr>\n",
              "      <th>1</th>\n",
              "      <td>chairt_1.jpg</td>\n",
              "      <td>chair</td>\n",
              "      <td>images/chairt_1.jpg</td>\n",
              "    </tr>\n",
              "    <tr>\n",
              "      <th>2</th>\n",
              "      <td>chairt_2.jpg</td>\n",
              "      <td>chair</td>\n",
              "      <td>images/chairt_2.jpg</td>\n",
              "    </tr>\n",
              "    <tr>\n",
              "      <th>3</th>\n",
              "      <td>chairt_3.jpg</td>\n",
              "      <td>chair</td>\n",
              "      <td>images/chairt_3.jpg</td>\n",
              "    </tr>\n",
              "    <tr>\n",
              "      <th>4</th>\n",
              "      <td>chairt_4.jpg</td>\n",
              "      <td>chair</td>\n",
              "      <td>images/chairt_4.jpg</td>\n",
              "    </tr>\n",
              "    <tr>\n",
              "      <th>...</th>\n",
              "      <td>...</td>\n",
              "      <td>...</td>\n",
              "      <td>...</td>\n",
              "    </tr>\n",
              "    <tr>\n",
              "      <th>6073</th>\n",
              "      <td>fad_29990.jpg</td>\n",
              "      <td>Tshirts</td>\n",
              "      <td>images/fad_29990.jpg</td>\n",
              "    </tr>\n",
              "    <tr>\n",
              "      <th>6074</th>\n",
              "      <td>fad_21819.jpg</td>\n",
              "      <td>Tshirts</td>\n",
              "      <td>images/fad_21819.jpg</td>\n",
              "    </tr>\n",
              "    <tr>\n",
              "      <th>6075</th>\n",
              "      <td>fad_24435.jpg</td>\n",
              "      <td>Tshirts</td>\n",
              "      <td>images/fad_24435.jpg</td>\n",
              "    </tr>\n",
              "    <tr>\n",
              "      <th>6076</th>\n",
              "      <td>fad_19584.jpg</td>\n",
              "      <td>Tshirts</td>\n",
              "      <td>images/fad_19584.jpg</td>\n",
              "    </tr>\n",
              "    <tr>\n",
              "      <th>6077</th>\n",
              "      <td>fad_29176.jpg</td>\n",
              "      <td>Tshirts</td>\n",
              "      <td>images/fad_29176.jpg</td>\n",
              "    </tr>\n",
              "  </tbody>\n",
              "</table>\n",
              "<p>6078 rows × 3 columns</p>\n",
              "</div>"
            ],
            "text/plain": [
              "                 id    label                  path\n",
              "0      chairt_0.jpg    chair   images/chairt_0.jpg\n",
              "1      chairt_1.jpg    chair   images/chairt_1.jpg\n",
              "2      chairt_2.jpg    chair   images/chairt_2.jpg\n",
              "3      chairt_3.jpg    chair   images/chairt_3.jpg\n",
              "4      chairt_4.jpg    chair   images/chairt_4.jpg\n",
              "...             ...      ...                   ...\n",
              "6073  fad_29990.jpg  Tshirts  images/fad_29990.jpg\n",
              "6074  fad_21819.jpg  Tshirts  images/fad_21819.jpg\n",
              "6075  fad_24435.jpg  Tshirts  images/fad_24435.jpg\n",
              "6076  fad_19584.jpg  Tshirts  images/fad_19584.jpg\n",
              "6077  fad_29176.jpg  Tshirts  images/fad_29176.jpg\n",
              "\n",
              "[6078 rows x 3 columns]"
            ]
          },
          "execution_count": 73,
          "metadata": {},
          "output_type": "execute_result"
        }
      ],
      "source": [
        "df"
      ]
    },
    {
      "cell_type": "code",
      "execution_count": 74,
      "metadata": {},
      "outputs": [
        {
          "data": {
            "text/plain": [
              "Tshirts         2981\n",
              "Casual Shoes    1488\n",
              "chair           1000\n",
              "Jeans            609\n",
              "Name: label, dtype: int64"
            ]
          },
          "execution_count": 74,
          "metadata": {},
          "output_type": "execute_result"
        }
      ],
      "source": [
        "df['label'].value_counts()"
      ]
    },
    {
      "cell_type": "code",
      "execution_count": 75,
      "metadata": {},
      "outputs": [],
      "source": [
        "df.to_csv('new_df.csv')"
      ]
    },
    {
      "cell_type": "code",
      "execution_count": 70,
      "metadata": {},
      "outputs": [],
      "source": [
        "for filename in os.listdir('images'):\n",
        "    if filename not in df['path']:\n",
        "        f = os.path.join(filename)\n",
        "        print(f)\n",
        "        os.remove(f)"
      ]
    },
    {
      "cell_type": "code",
      "execution_count": 71,
      "metadata": {},
      "outputs": [
        {
          "name": "stdout",
          "output_type": "stream",
          "text": [
            "0\n"
          ]
        }
      ],
      "source": [
        "print (len([name for name in os.listdir('images')])  ) "
      ]
    },
    {
      "cell_type": "code",
      "execution_count": null,
      "metadata": {},
      "outputs": [],
      "source": []
    },
    {
      "cell_type": "code",
      "execution_count": 10,
      "metadata": {
        "id": "7PzhdhK5Q3ZP"
      },
      "outputs": [],
      "source": [
        "keys = list(df['label'].value_counts().keys().values)"
      ]
    },
    {
      "cell_type": "code",
      "execution_count": 11,
      "metadata": {
        "id": "3lDYEt6sBGxs"
      },
      "outputs": [],
      "source": [
        "label_dict = {}\n",
        "for i, k in enumerate(keys):\n",
        "  label_dict[k] = i"
      ]
    },
    {
      "cell_type": "code",
      "execution_count": 12,
      "metadata": {
        "id": "djL4JDueFnEV"
      },
      "outputs": [],
      "source": [
        "df['label'] = [int(label_dict[label]) for label in df['label']]"
      ]
    },
    {
      "cell_type": "code",
      "execution_count": 13,
      "metadata": {
        "id": "DyjoxybHjrHf"
      },
      "outputs": [],
      "source": [
        "df = df.drop(df.index[[11342, 20852, 36969, 41044, 44667]])"
      ]
    },
    {
      "cell_type": "code",
      "execution_count": 14,
      "metadata": {
        "colab": {
          "base_uri": "https://localhost:8080/",
          "height": 35
        },
        "id": "EwOlwxVjjuqY",
        "outputId": "b3a2a484-f379-4cd9-c2ba-446742655168"
      },
      "outputs": [
        {
          "data": {
            "text/plain": [
              "'images/fad_21380.jpg'"
            ]
          },
          "execution_count": 14,
          "metadata": {},
          "output_type": "execute_result"
        }
      ],
      "source": [
        "df = df.reset_index(drop = True)\n",
        "df['path'][11342]"
      ]
    },
    {
      "cell_type": "code",
      "execution_count": 15,
      "metadata": {
        "colab": {
          "base_uri": "https://localhost:8080/",
          "height": 419
        },
        "id": "0HnaLGARkZme",
        "outputId": "1f0b5fd2-42e8-4839-af1b-142b7926da13"
      },
      "outputs": [
        {
          "data": {
            "text/html": [
              "<div>\n",
              "<style scoped>\n",
              "    .dataframe tbody tr th:only-of-type {\n",
              "        vertical-align: middle;\n",
              "    }\n",
              "\n",
              "    .dataframe tbody tr th {\n",
              "        vertical-align: top;\n",
              "    }\n",
              "\n",
              "    .dataframe thead th {\n",
              "        text-align: right;\n",
              "    }\n",
              "</style>\n",
              "<table border=\"1\" class=\"dataframe\">\n",
              "  <thead>\n",
              "    <tr style=\"text-align: right;\">\n",
              "      <th></th>\n",
              "      <th>id</th>\n",
              "      <th>label</th>\n",
              "      <th>path</th>\n",
              "    </tr>\n",
              "  </thead>\n",
              "  <tbody>\n",
              "    <tr>\n",
              "      <th>0</th>\n",
              "      <td>bedt_0.jpg</td>\n",
              "      <td>13</td>\n",
              "      <td>images/bedt_0.jpg</td>\n",
              "    </tr>\n",
              "    <tr>\n",
              "      <th>1</th>\n",
              "      <td>bedt_1.jpg</td>\n",
              "      <td>13</td>\n",
              "      <td>images/bedt_1.jpg</td>\n",
              "    </tr>\n",
              "    <tr>\n",
              "      <th>2</th>\n",
              "      <td>bedt_2.jpg</td>\n",
              "      <td>13</td>\n",
              "      <td>images/bedt_2.jpg</td>\n",
              "    </tr>\n",
              "    <tr>\n",
              "      <th>3</th>\n",
              "      <td>bedt_3.jpg</td>\n",
              "      <td>13</td>\n",
              "      <td>images/bedt_3.jpg</td>\n",
              "    </tr>\n",
              "    <tr>\n",
              "      <th>4</th>\n",
              "      <td>bedt_4.jpg</td>\n",
              "      <td>13</td>\n",
              "      <td>images/bedt_4.jpg</td>\n",
              "    </tr>\n",
              "    <tr>\n",
              "      <th>...</th>\n",
              "      <td>...</td>\n",
              "      <td>...</td>\n",
              "      <td>...</td>\n",
              "    </tr>\n",
              "    <tr>\n",
              "      <th>49081</th>\n",
              "      <td>fad_27070.jpg</td>\n",
              "      <td>2</td>\n",
              "      <td>images/fad_27070.jpg</td>\n",
              "    </tr>\n",
              "    <tr>\n",
              "      <th>49082</th>\n",
              "      <td>fad_16559.jpg</td>\n",
              "      <td>15</td>\n",
              "      <td>images/fad_16559.jpg</td>\n",
              "    </tr>\n",
              "    <tr>\n",
              "      <th>49083</th>\n",
              "      <td>fad_29176.jpg</td>\n",
              "      <td>0</td>\n",
              "      <td>images/fad_29176.jpg</td>\n",
              "    </tr>\n",
              "    <tr>\n",
              "      <th>49084</th>\n",
              "      <td>fad_22512.jpg</td>\n",
              "      <td>22</td>\n",
              "      <td>images/fad_22512.jpg</td>\n",
              "    </tr>\n",
              "    <tr>\n",
              "      <th>49085</th>\n",
              "      <td>fad_6026.jpg</td>\n",
              "      <td>3</td>\n",
              "      <td>images/fad_6026.jpg</td>\n",
              "    </tr>\n",
              "  </tbody>\n",
              "</table>\n",
              "<p>49086 rows × 3 columns</p>\n",
              "</div>"
            ],
            "text/plain": [
              "                  id  label                  path\n",
              "0         bedt_0.jpg     13     images/bedt_0.jpg\n",
              "1         bedt_1.jpg     13     images/bedt_1.jpg\n",
              "2         bedt_2.jpg     13     images/bedt_2.jpg\n",
              "3         bedt_3.jpg     13     images/bedt_3.jpg\n",
              "4         bedt_4.jpg     13     images/bedt_4.jpg\n",
              "...              ...    ...                   ...\n",
              "49081  fad_27070.jpg      2  images/fad_27070.jpg\n",
              "49082  fad_16559.jpg     15  images/fad_16559.jpg\n",
              "49083  fad_29176.jpg      0  images/fad_29176.jpg\n",
              "49084  fad_22512.jpg     22  images/fad_22512.jpg\n",
              "49085   fad_6026.jpg      3   images/fad_6026.jpg\n",
              "\n",
              "[49086 rows x 3 columns]"
            ]
          },
          "execution_count": 15,
          "metadata": {},
          "output_type": "execute_result"
        }
      ],
      "source": [
        "df"
      ]
    },
    {
      "cell_type": "code",
      "execution_count": 16,
      "metadata": {
        "id": "qeytyrbBjjUE"
      },
      "outputs": [],
      "source": [
        "train_df = df[:48000]\n",
        "test_df = df[48000:]"
      ]
    },
    {
      "cell_type": "code",
      "execution_count": 22,
      "metadata": {
        "id": "afPwA90ZFU2a"
      },
      "outputs": [],
      "source": [
        "class sustain_dataset(Dataset):\n",
        "    def __init__(self, df, transform=None):\n",
        "        self.labels_df = df\n",
        "        self.transform = transform\n",
        "\n",
        "    def __len__(self):\n",
        "        return len(self.labels_df)\n",
        "\n",
        "    def __getitem__(self, idx):\n",
        "        img_file = self.labels_df['path'][idx]\n",
        "        try:\n",
        "          img = Image.open(img_file)\n",
        "          img = img.convert('RGB')\n",
        "          label = self.labels_df['label'][idx]\n",
        "          img = transforms.ToTensor()(img)\n",
        "          img = transforms.Resize((100, 100))(img)\n",
        "          return img, label\n",
        "        except:\n",
        "          print(img_file)\n",
        "          return 0, 0"
      ]
    },
    {
      "cell_type": "code",
      "execution_count": 23,
      "metadata": {
        "id": "u5NJVbECFUxG"
      },
      "outputs": [],
      "source": [
        "train_dataset= sustain_dataset(df = train_df)\n",
        "test_dataset= sustain_dataset(df = test_df)"
      ]
    },
    {
      "cell_type": "code",
      "execution_count": 24,
      "metadata": {
        "id": "bms1YJZ9FUuV"
      },
      "outputs": [],
      "source": [
        "img, label = train_dataset[0]"
      ]
    },
    {
      "cell_type": "code",
      "execution_count": 25,
      "metadata": {
        "colab": {
          "base_uri": "https://localhost:8080/"
        },
        "id": "Ie5DBFqY0m8I",
        "outputId": "cd47f174-612c-47c7-f9f8-1253853e0e21"
      },
      "outputs": [
        {
          "data": {
            "text/plain": [
              "torch.Size([3, 100, 100])"
            ]
          },
          "execution_count": 25,
          "metadata": {},
          "output_type": "execute_result"
        }
      ],
      "source": [
        "img.shape"
      ]
    },
    {
      "cell_type": "code",
      "execution_count": 39,
      "metadata": {
        "id": "6bG7z58xFUgl"
      },
      "outputs": [],
      "source": [
        "train_dataloader = DataLoader(train_dataset, batch_size=64,num_workers=8 ,shuffle=True)\n",
        "test_dataloader = DataLoader(test_dataset, batch_size=64, num_workers=8 ,shuffle=True)"
      ]
    },
    {
      "cell_type": "code",
      "execution_count": 40,
      "metadata": {
        "colab": {
          "base_uri": "https://localhost:8080/"
        },
        "id": "laR_FWU9HH7q",
        "outputId": "344c8cd0-fdd1-45d2-8ddb-162840a454eb"
      },
      "outputs": [
        {
          "name": "stdout",
          "output_type": "stream",
          "text": [
            "Not using CUDA!!!\n"
          ]
        }
      ],
      "source": [
        "use_cuda = torch.cuda.is_available()\n",
        "\n",
        "device = torch.device(\"cuda\" if use_cuda else 'cpu')\n",
        "if use_cuda:\n",
        "    print(\"Using CUDA!\")\n",
        "else:\n",
        "    print('Not using CUDA!!!')"
      ]
    },
    {
      "cell_type": "code",
      "execution_count": 28,
      "metadata": {
        "colab": {
          "base_uri": "https://localhost:8080/"
        },
        "id": "VyIoa2n7c5ia",
        "outputId": "a52000f0-d49c-45b6-c36c-87f79607ef05"
      },
      "outputs": [
        {
          "name": "stdout",
          "output_type": "stream",
          "text": [
            "--2021-10-30 14:24:19--  https://download.pytorch.org/models/vgg16_bn-6c64b313.pth\n",
            "Resolving download.pytorch.org (download.pytorch.org)... 2600:9000:21f6:2c00:d:607e:4540:93a1, 2600:9000:21f6:4800:d:607e:4540:93a1, 2600:9000:21f6:8e00:d:607e:4540:93a1, ...\n",
            "Connecting to download.pytorch.org (download.pytorch.org)|2600:9000:21f6:2c00:d:607e:4540:93a1|:443... connected.\n",
            "HTTP request sent, awaiting response... 200 OK\n",
            "Length: 553507836 (528M) [application/octet-stream]\n",
            "Saving to: ‘vgg16_bn-6c64b313.pth’\n",
            "\n",
            "vgg16_bn-6c64b313.p 100%[===================>] 527.87M  2.91MB/s    in 3m 20s  \n",
            "\n",
            "2021-10-30 14:27:40 (2.64 MB/s) - ‘vgg16_bn-6c64b313.pth’ saved [553507836/553507836]\n",
            "\n"
          ]
        }
      ],
      "source": [
        "!wget 'https://download.pytorch.org/models/vgg16_bn-6c64b313.pth'"
      ]
    },
    {
      "cell_type": "code",
      "execution_count": 41,
      "metadata": {
        "colab": {
          "base_uri": "https://localhost:8080/"
        },
        "id": "epIdakrPL3wK",
        "outputId": "fab610d8-489a-49e9-99a5-8024f7986ffa"
      },
      "outputs": [
        {
          "data": {
            "text/plain": [
              "<All keys matched successfully>"
            ]
          },
          "execution_count": 41,
          "metadata": {},
          "output_type": "execute_result"
        }
      ],
      "source": [
        "vgg16 = models.vgg16_bn()\n",
        "vgg16.load_state_dict(torch.load('vgg16_bn-6c64b313.pth'))"
      ]
    },
    {
      "cell_type": "code",
      "execution_count": 42,
      "metadata": {
        "colab": {
          "base_uri": "https://localhost:8080/"
        },
        "id": "XTIV1mjVbjD2",
        "outputId": "38e07699-cd84-4a2a-8544-a8baa3b66891"
      },
      "outputs": [
        {
          "name": "stdout",
          "output_type": "stream",
          "text": [
            "1000\n"
          ]
        }
      ],
      "source": [
        "print(vgg16.classifier[6].out_features) "
      ]
    },
    {
      "cell_type": "code",
      "execution_count": 43,
      "metadata": {
        "colab": {
          "base_uri": "https://localhost:8080/"
        },
        "id": "1jNx9b14do0o",
        "outputId": "d4c5333a-49b8-4c6f-fd4c-29fb0699731f"
      },
      "outputs": [
        {
          "name": "stdout",
          "output_type": "stream",
          "text": [
            "VGG(\n",
            "  (features): Sequential(\n",
            "    (0): Conv2d(3, 64, kernel_size=(3, 3), stride=(1, 1), padding=(1, 1))\n",
            "    (1): BatchNorm2d(64, eps=1e-05, momentum=0.1, affine=True, track_running_stats=True)\n",
            "    (2): ReLU(inplace=True)\n",
            "    (3): Conv2d(64, 64, kernel_size=(3, 3), stride=(1, 1), padding=(1, 1))\n",
            "    (4): BatchNorm2d(64, eps=1e-05, momentum=0.1, affine=True, track_running_stats=True)\n",
            "    (5): ReLU(inplace=True)\n",
            "    (6): MaxPool2d(kernel_size=2, stride=2, padding=0, dilation=1, ceil_mode=False)\n",
            "    (7): Conv2d(64, 128, kernel_size=(3, 3), stride=(1, 1), padding=(1, 1))\n",
            "    (8): BatchNorm2d(128, eps=1e-05, momentum=0.1, affine=True, track_running_stats=True)\n",
            "    (9): ReLU(inplace=True)\n",
            "    (10): Conv2d(128, 128, kernel_size=(3, 3), stride=(1, 1), padding=(1, 1))\n",
            "    (11): BatchNorm2d(128, eps=1e-05, momentum=0.1, affine=True, track_running_stats=True)\n",
            "    (12): ReLU(inplace=True)\n",
            "    (13): MaxPool2d(kernel_size=2, stride=2, padding=0, dilation=1, ceil_mode=False)\n",
            "    (14): Conv2d(128, 256, kernel_size=(3, 3), stride=(1, 1), padding=(1, 1))\n",
            "    (15): BatchNorm2d(256, eps=1e-05, momentum=0.1, affine=True, track_running_stats=True)\n",
            "    (16): ReLU(inplace=True)\n",
            "    (17): Conv2d(256, 256, kernel_size=(3, 3), stride=(1, 1), padding=(1, 1))\n",
            "    (18): BatchNorm2d(256, eps=1e-05, momentum=0.1, affine=True, track_running_stats=True)\n",
            "    (19): ReLU(inplace=True)\n",
            "    (20): Conv2d(256, 256, kernel_size=(3, 3), stride=(1, 1), padding=(1, 1))\n",
            "    (21): BatchNorm2d(256, eps=1e-05, momentum=0.1, affine=True, track_running_stats=True)\n",
            "    (22): ReLU(inplace=True)\n",
            "    (23): MaxPool2d(kernel_size=2, stride=2, padding=0, dilation=1, ceil_mode=False)\n",
            "    (24): Conv2d(256, 512, kernel_size=(3, 3), stride=(1, 1), padding=(1, 1))\n",
            "    (25): BatchNorm2d(512, eps=1e-05, momentum=0.1, affine=True, track_running_stats=True)\n",
            "    (26): ReLU(inplace=True)\n",
            "    (27): Conv2d(512, 512, kernel_size=(3, 3), stride=(1, 1), padding=(1, 1))\n",
            "    (28): BatchNorm2d(512, eps=1e-05, momentum=0.1, affine=True, track_running_stats=True)\n",
            "    (29): ReLU(inplace=True)\n",
            "    (30): Conv2d(512, 512, kernel_size=(3, 3), stride=(1, 1), padding=(1, 1))\n",
            "    (31): BatchNorm2d(512, eps=1e-05, momentum=0.1, affine=True, track_running_stats=True)\n",
            "    (32): ReLU(inplace=True)\n",
            "    (33): MaxPool2d(kernel_size=2, stride=2, padding=0, dilation=1, ceil_mode=False)\n",
            "    (34): Conv2d(512, 512, kernel_size=(3, 3), stride=(1, 1), padding=(1, 1))\n",
            "    (35): BatchNorm2d(512, eps=1e-05, momentum=0.1, affine=True, track_running_stats=True)\n",
            "    (36): ReLU(inplace=True)\n",
            "    (37): Conv2d(512, 512, kernel_size=(3, 3), stride=(1, 1), padding=(1, 1))\n",
            "    (38): BatchNorm2d(512, eps=1e-05, momentum=0.1, affine=True, track_running_stats=True)\n",
            "    (39): ReLU(inplace=True)\n",
            "    (40): Conv2d(512, 512, kernel_size=(3, 3), stride=(1, 1), padding=(1, 1))\n",
            "    (41): BatchNorm2d(512, eps=1e-05, momentum=0.1, affine=True, track_running_stats=True)\n",
            "    (42): ReLU(inplace=True)\n",
            "    (43): MaxPool2d(kernel_size=2, stride=2, padding=0, dilation=1, ceil_mode=False)\n",
            "  )\n",
            "  (avgpool): AdaptiveAvgPool2d(output_size=(7, 7))\n",
            "  (classifier): Sequential(\n",
            "    (0): Linear(in_features=25088, out_features=4096, bias=True)\n",
            "    (1): ReLU(inplace=True)\n",
            "    (2): Dropout(p=0.5, inplace=False)\n",
            "    (3): Linear(in_features=4096, out_features=4096, bias=True)\n",
            "    (4): ReLU(inplace=True)\n",
            "    (5): Dropout(p=0.5, inplace=False)\n",
            "    (6): Linear(in_features=4096, out_features=149, bias=True)\n",
            "  )\n",
            ")\n"
          ]
        }
      ],
      "source": [
        "for param in vgg16.features.parameters():\n",
        "    param.require_grad = False\n",
        "\n",
        "num_features = vgg16.classifier[6].in_features\n",
        "features = list(vgg16.classifier.children())[:-1] \n",
        "features.extend([nn.Linear(num_features, 149)]) \n",
        "vgg16.classifier = nn.Sequential(*features) \n",
        "print(vgg16)"
      ]
    },
    {
      "cell_type": "code",
      "execution_count": 44,
      "metadata": {
        "id": "hAjKohPReejF"
      },
      "outputs": [],
      "source": [
        "criterion = nn.CrossEntropyLoss()\n",
        "\n",
        "optimizer = optim.SGD(vgg16.parameters(), lr=0.001, momentum=0.9)\n",
        "initial_optimizer_state_dict = optimizer.state_dict()\n"
      ]
    },
    {
      "cell_type": "code",
      "execution_count": 45,
      "metadata": {
        "id": "TUQu3FLOHH1I"
      },
      "outputs": [],
      "source": [
        "optimizer =  optim.Adam(vgg16.parameters(), lr=0.01, weight_decay=0.0001)\n",
        "initial_optimizer_state_dict = optimizer.state_dict()\n",
        "checkpoint_interval = 2"
      ]
    },
    {
      "cell_type": "code",
      "execution_count": 46,
      "metadata": {
        "id": "1sB1LySgGLou"
      },
      "outputs": [],
      "source": [
        "def load_checkpoint(vgg16, optimizer, filename='checkpoint.pth'):\n",
        "    start_epoch = 0\n",
        "    print(\"=> loading checkpoint '{}'\".format(filename))\n",
        "    checkpoint = torch.load(filename)\n",
        "    start_epoch = checkpoint['epoch']\n",
        "    vgg16.load_state_dict(checkpoint['model'])\n",
        "    optimizer.load_state_dict(checkpoint['optimiser'])\n",
        "    print(\"=> loaded checkpoint '{}' (epoch {})\"\n",
        "              .format(filename, checkpoint['epoch']))\n",
        "    return vgg16, optimizer, start_epoch"
      ]
    },
    {
      "cell_type": "code",
      "execution_count": 47,
      "metadata": {
        "id": "P71poeDGHHsi"
      },
      "outputs": [],
      "source": [
        "def train(vgg16, optimizer,start_epoch,epochs):\n",
        "  start_epoch = 0\n",
        "  vgg16.train()\n",
        "  if use_cuda:\n",
        "    vgg16.cuda()\n",
        "  for epoch in range(start_epoch, epochs):\n",
        "    for batch, (data, target) in enumerate(train_dataloader):\n",
        "      data, target = data.to(device), target.to(device)\n",
        "      optimizer.zero_grad()\n",
        "\n",
        "      output = vgg16(data)\n",
        "      _, preds = torch.max(output.data, 1)\n",
        "      loss = criterion(output, target)\n",
        "      # print(output)\n",
        "      # print(target)\n",
        "      # print(preds)\n",
        "      loss.backward()\n",
        "      optimizer.step()\n",
        "\n",
        "      if batch % 10 == 0:\n",
        "        done = batch * len(data)\n",
        "        percentage = 100. * batch/ len(train_dataloader)\n",
        "        print(f'Train Epoch: {epoch} [{done:5}/{len(train_dataloader.dataset)} ({percentage:3.0f}%)]  Loss: {loss.item():.6f}')\n",
        "    if epoch % checkpoint_interval == 0:\n",
        "      checkpoint = {'epoch' : epoch, 'model' : model.state_dict(), 'optimiser' : optimiser.state_dict()}\n",
        "      checkpoint_path = f\"checkpoints/vgg16_ckpt_{epoch}.pth\"\n",
        "      print(f\"---- Saving checkpoint to: '{checkpoint_path}' ----\")\n",
        "      torch.save(checkpoint, checkpoint_path)\n",
        "      return checkpoint_path\n",
        "      break\n"
      ]
    },
    {
      "cell_type": "code",
      "execution_count": 48,
      "metadata": {
        "colab": {
          "base_uri": "https://localhost:8080/"
        },
        "id": "JOIinmdnJ5Ns",
        "outputId": "d354eb65-fe8a-4af9-fd35-a735233e49e4"
      },
      "outputs": [
        {
          "ename": "KeyboardInterrupt",
          "evalue": "",
          "output_type": "error",
          "traceback": [
            "\u001b[0;31m---------------------------------------------------------------------------\u001b[0m",
            "\u001b[0;31mKeyboardInterrupt\u001b[0m                         Traceback (most recent call last)",
            "\u001b[0;32m<ipython-input-48-a55603a049f0>\u001b[0m in \u001b[0;36m<module>\u001b[0;34m\u001b[0m\n\u001b[1;32m      3\u001b[0m \u001b[0mepochs\u001b[0m \u001b[0;34m=\u001b[0m \u001b[0;36m10\u001b[0m\u001b[0;34m\u001b[0m\u001b[0;34m\u001b[0m\u001b[0m\n\u001b[1;32m      4\u001b[0m \u001b[0;34m\u001b[0m\u001b[0m\n\u001b[0;32m----> 5\u001b[0;31m \u001b[0mcheckpoint_path\u001b[0m \u001b[0;34m=\u001b[0m \u001b[0mtrain\u001b[0m\u001b[0;34m(\u001b[0m\u001b[0mvgg16\u001b[0m\u001b[0;34m,\u001b[0m\u001b[0moptimizer\u001b[0m\u001b[0;34m,\u001b[0m \u001b[0mstart_epoch\u001b[0m\u001b[0;34m,\u001b[0m \u001b[0mepochs\u001b[0m\u001b[0;34m)\u001b[0m\u001b[0;34m\u001b[0m\u001b[0;34m\u001b[0m\u001b[0m\n\u001b[0m\u001b[1;32m      6\u001b[0m \u001b[0mvgg16\u001b[0m\u001b[0;34m,\u001b[0m \u001b[0moptimizer\u001b[0m\u001b[0;34m,\u001b[0m \u001b[0mstart_epoch\u001b[0m \u001b[0;34m=\u001b[0m \u001b[0mload_checkpoint\u001b[0m\u001b[0;34m(\u001b[0m\u001b[0mvgg16\u001b[0m\u001b[0;34m,\u001b[0m \u001b[0moptimizer\u001b[0m\u001b[0;34m,\u001b[0m\u001b[0mfilename\u001b[0m\u001b[0;34m=\u001b[0m\u001b[0mcheckpoint_path\u001b[0m\u001b[0;34m)\u001b[0m\u001b[0;34m\u001b[0m\u001b[0;34m\u001b[0m\u001b[0m\n",
            "\u001b[0;32m<ipython-input-47-c0677a990450>\u001b[0m in \u001b[0;36mtrain\u001b[0;34m(vgg16, optimizer, start_epoch, epochs)\u001b[0m\n\u001b[1;32m      5\u001b[0m     \u001b[0mvgg16\u001b[0m\u001b[0;34m.\u001b[0m\u001b[0mcuda\u001b[0m\u001b[0;34m(\u001b[0m\u001b[0;34m)\u001b[0m\u001b[0;34m\u001b[0m\u001b[0;34m\u001b[0m\u001b[0m\n\u001b[1;32m      6\u001b[0m   \u001b[0;32mfor\u001b[0m \u001b[0mepoch\u001b[0m \u001b[0;32min\u001b[0m \u001b[0mrange\u001b[0m\u001b[0;34m(\u001b[0m\u001b[0mstart_epoch\u001b[0m\u001b[0;34m,\u001b[0m \u001b[0mepochs\u001b[0m\u001b[0;34m)\u001b[0m\u001b[0;34m:\u001b[0m\u001b[0;34m\u001b[0m\u001b[0;34m\u001b[0m\u001b[0m\n\u001b[0;32m----> 7\u001b[0;31m     \u001b[0;32mfor\u001b[0m \u001b[0mbatch\u001b[0m\u001b[0;34m,\u001b[0m \u001b[0;34m(\u001b[0m\u001b[0mdata\u001b[0m\u001b[0;34m,\u001b[0m \u001b[0mtarget\u001b[0m\u001b[0;34m)\u001b[0m \u001b[0;32min\u001b[0m \u001b[0menumerate\u001b[0m\u001b[0;34m(\u001b[0m\u001b[0mtrain_dataloader\u001b[0m\u001b[0;34m)\u001b[0m\u001b[0;34m:\u001b[0m\u001b[0;34m\u001b[0m\u001b[0;34m\u001b[0m\u001b[0m\n\u001b[0m\u001b[1;32m      8\u001b[0m       \u001b[0mdata\u001b[0m\u001b[0;34m,\u001b[0m \u001b[0mtarget\u001b[0m \u001b[0;34m=\u001b[0m \u001b[0mdata\u001b[0m\u001b[0;34m.\u001b[0m\u001b[0mto\u001b[0m\u001b[0;34m(\u001b[0m\u001b[0mdevice\u001b[0m\u001b[0;34m)\u001b[0m\u001b[0;34m,\u001b[0m \u001b[0mtarget\u001b[0m\u001b[0;34m.\u001b[0m\u001b[0mto\u001b[0m\u001b[0;34m(\u001b[0m\u001b[0mdevice\u001b[0m\u001b[0;34m)\u001b[0m\u001b[0;34m\u001b[0m\u001b[0;34m\u001b[0m\u001b[0m\n\u001b[1;32m      9\u001b[0m       \u001b[0moptimizer\u001b[0m\u001b[0;34m.\u001b[0m\u001b[0mzero_grad\u001b[0m\u001b[0;34m(\u001b[0m\u001b[0;34m)\u001b[0m\u001b[0;34m\u001b[0m\u001b[0;34m\u001b[0m\u001b[0m\n",
            "\u001b[0;32m/opt/anaconda3/lib/python3.8/site-packages/torch/utils/data/dataloader.py\u001b[0m in \u001b[0;36m__iter__\u001b[0;34m(self)\u001b[0m\n\u001b[1;32m    357\u001b[0m             \u001b[0;32mreturn\u001b[0m \u001b[0mself\u001b[0m\u001b[0;34m.\u001b[0m\u001b[0m_iterator\u001b[0m\u001b[0;34m\u001b[0m\u001b[0;34m\u001b[0m\u001b[0m\n\u001b[1;32m    358\u001b[0m         \u001b[0;32melse\u001b[0m\u001b[0;34m:\u001b[0m\u001b[0;34m\u001b[0m\u001b[0;34m\u001b[0m\u001b[0m\n\u001b[0;32m--> 359\u001b[0;31m             \u001b[0;32mreturn\u001b[0m \u001b[0mself\u001b[0m\u001b[0;34m.\u001b[0m\u001b[0m_get_iterator\u001b[0m\u001b[0;34m(\u001b[0m\u001b[0;34m)\u001b[0m\u001b[0;34m\u001b[0m\u001b[0;34m\u001b[0m\u001b[0m\n\u001b[0m\u001b[1;32m    360\u001b[0m \u001b[0;34m\u001b[0m\u001b[0m\n\u001b[1;32m    361\u001b[0m     \u001b[0;34m@\u001b[0m\u001b[0mproperty\u001b[0m\u001b[0;34m\u001b[0m\u001b[0;34m\u001b[0m\u001b[0m\n",
            "\u001b[0;32m/opt/anaconda3/lib/python3.8/site-packages/torch/utils/data/dataloader.py\u001b[0m in \u001b[0;36m_get_iterator\u001b[0;34m(self)\u001b[0m\n\u001b[1;32m    303\u001b[0m         \u001b[0;32melse\u001b[0m\u001b[0;34m:\u001b[0m\u001b[0;34m\u001b[0m\u001b[0;34m\u001b[0m\u001b[0m\n\u001b[1;32m    304\u001b[0m             \u001b[0mself\u001b[0m\u001b[0;34m.\u001b[0m\u001b[0mcheck_worker_number_rationality\u001b[0m\u001b[0;34m(\u001b[0m\u001b[0;34m)\u001b[0m\u001b[0;34m\u001b[0m\u001b[0;34m\u001b[0m\u001b[0m\n\u001b[0;32m--> 305\u001b[0;31m             \u001b[0;32mreturn\u001b[0m \u001b[0m_MultiProcessingDataLoaderIter\u001b[0m\u001b[0;34m(\u001b[0m\u001b[0mself\u001b[0m\u001b[0;34m)\u001b[0m\u001b[0;34m\u001b[0m\u001b[0;34m\u001b[0m\u001b[0m\n\u001b[0m\u001b[1;32m    306\u001b[0m \u001b[0;34m\u001b[0m\u001b[0m\n\u001b[1;32m    307\u001b[0m     \u001b[0;34m@\u001b[0m\u001b[0mproperty\u001b[0m\u001b[0;34m\u001b[0m\u001b[0;34m\u001b[0m\u001b[0m\n",
            "\u001b[0;32m/opt/anaconda3/lib/python3.8/site-packages/torch/utils/data/dataloader.py\u001b[0m in \u001b[0;36m__init__\u001b[0;34m(self, loader)\u001b[0m\n\u001b[1;32m    916\u001b[0m             \u001b[0;31m#     before it starts, and __del__ tries to join but will get:\u001b[0m\u001b[0;34m\u001b[0m\u001b[0;34m\u001b[0m\u001b[0;34m\u001b[0m\u001b[0m\n\u001b[1;32m    917\u001b[0m             \u001b[0;31m#     AssertionError: can only join a started process.\u001b[0m\u001b[0;34m\u001b[0m\u001b[0;34m\u001b[0m\u001b[0;34m\u001b[0m\u001b[0m\n\u001b[0;32m--> 918\u001b[0;31m             \u001b[0mw\u001b[0m\u001b[0;34m.\u001b[0m\u001b[0mstart\u001b[0m\u001b[0;34m(\u001b[0m\u001b[0;34m)\u001b[0m\u001b[0;34m\u001b[0m\u001b[0;34m\u001b[0m\u001b[0m\n\u001b[0m\u001b[1;32m    919\u001b[0m             \u001b[0mself\u001b[0m\u001b[0;34m.\u001b[0m\u001b[0m_index_queues\u001b[0m\u001b[0;34m.\u001b[0m\u001b[0mappend\u001b[0m\u001b[0;34m(\u001b[0m\u001b[0mindex_queue\u001b[0m\u001b[0;34m)\u001b[0m\u001b[0;34m\u001b[0m\u001b[0;34m\u001b[0m\u001b[0m\n\u001b[1;32m    920\u001b[0m             \u001b[0mself\u001b[0m\u001b[0;34m.\u001b[0m\u001b[0m_workers\u001b[0m\u001b[0;34m.\u001b[0m\u001b[0mappend\u001b[0m\u001b[0;34m(\u001b[0m\u001b[0mw\u001b[0m\u001b[0;34m)\u001b[0m\u001b[0;34m\u001b[0m\u001b[0;34m\u001b[0m\u001b[0m\n",
            "\u001b[0;32m/opt/anaconda3/lib/python3.8/multiprocessing/process.py\u001b[0m in \u001b[0;36mstart\u001b[0;34m(self)\u001b[0m\n\u001b[1;32m    119\u001b[0m                \u001b[0;34m'daemonic processes are not allowed to have children'\u001b[0m\u001b[0;34m\u001b[0m\u001b[0;34m\u001b[0m\u001b[0m\n\u001b[1;32m    120\u001b[0m         \u001b[0m_cleanup\u001b[0m\u001b[0;34m(\u001b[0m\u001b[0;34m)\u001b[0m\u001b[0;34m\u001b[0m\u001b[0;34m\u001b[0m\u001b[0m\n\u001b[0;32m--> 121\u001b[0;31m         \u001b[0mself\u001b[0m\u001b[0;34m.\u001b[0m\u001b[0m_popen\u001b[0m \u001b[0;34m=\u001b[0m \u001b[0mself\u001b[0m\u001b[0;34m.\u001b[0m\u001b[0m_Popen\u001b[0m\u001b[0;34m(\u001b[0m\u001b[0mself\u001b[0m\u001b[0;34m)\u001b[0m\u001b[0;34m\u001b[0m\u001b[0;34m\u001b[0m\u001b[0m\n\u001b[0m\u001b[1;32m    122\u001b[0m         \u001b[0mself\u001b[0m\u001b[0;34m.\u001b[0m\u001b[0m_sentinel\u001b[0m \u001b[0;34m=\u001b[0m \u001b[0mself\u001b[0m\u001b[0;34m.\u001b[0m\u001b[0m_popen\u001b[0m\u001b[0;34m.\u001b[0m\u001b[0msentinel\u001b[0m\u001b[0;34m\u001b[0m\u001b[0;34m\u001b[0m\u001b[0m\n\u001b[1;32m    123\u001b[0m         \u001b[0;31m# Avoid a refcycle if the target function holds an indirect\u001b[0m\u001b[0;34m\u001b[0m\u001b[0;34m\u001b[0m\u001b[0;34m\u001b[0m\u001b[0m\n",
            "\u001b[0;32m/opt/anaconda3/lib/python3.8/multiprocessing/context.py\u001b[0m in \u001b[0;36m_Popen\u001b[0;34m(process_obj)\u001b[0m\n\u001b[1;32m    222\u001b[0m     \u001b[0;34m@\u001b[0m\u001b[0mstaticmethod\u001b[0m\u001b[0;34m\u001b[0m\u001b[0;34m\u001b[0m\u001b[0m\n\u001b[1;32m    223\u001b[0m     \u001b[0;32mdef\u001b[0m \u001b[0m_Popen\u001b[0m\u001b[0;34m(\u001b[0m\u001b[0mprocess_obj\u001b[0m\u001b[0;34m)\u001b[0m\u001b[0;34m:\u001b[0m\u001b[0;34m\u001b[0m\u001b[0;34m\u001b[0m\u001b[0m\n\u001b[0;32m--> 224\u001b[0;31m         \u001b[0;32mreturn\u001b[0m \u001b[0m_default_context\u001b[0m\u001b[0;34m.\u001b[0m\u001b[0mget_context\u001b[0m\u001b[0;34m(\u001b[0m\u001b[0;34m)\u001b[0m\u001b[0;34m.\u001b[0m\u001b[0mProcess\u001b[0m\u001b[0;34m.\u001b[0m\u001b[0m_Popen\u001b[0m\u001b[0;34m(\u001b[0m\u001b[0mprocess_obj\u001b[0m\u001b[0;34m)\u001b[0m\u001b[0;34m\u001b[0m\u001b[0;34m\u001b[0m\u001b[0m\n\u001b[0m\u001b[1;32m    225\u001b[0m \u001b[0;34m\u001b[0m\u001b[0m\n\u001b[1;32m    226\u001b[0m \u001b[0;32mclass\u001b[0m \u001b[0mDefaultContext\u001b[0m\u001b[0;34m(\u001b[0m\u001b[0mBaseContext\u001b[0m\u001b[0;34m)\u001b[0m\u001b[0;34m:\u001b[0m\u001b[0;34m\u001b[0m\u001b[0;34m\u001b[0m\u001b[0m\n",
            "\u001b[0;32m/opt/anaconda3/lib/python3.8/multiprocessing/context.py\u001b[0m in \u001b[0;36m_Popen\u001b[0;34m(process_obj)\u001b[0m\n\u001b[1;32m    282\u001b[0m         \u001b[0;32mdef\u001b[0m \u001b[0m_Popen\u001b[0m\u001b[0;34m(\u001b[0m\u001b[0mprocess_obj\u001b[0m\u001b[0;34m)\u001b[0m\u001b[0;34m:\u001b[0m\u001b[0;34m\u001b[0m\u001b[0;34m\u001b[0m\u001b[0m\n\u001b[1;32m    283\u001b[0m             \u001b[0;32mfrom\u001b[0m \u001b[0;34m.\u001b[0m\u001b[0mpopen_spawn_posix\u001b[0m \u001b[0;32mimport\u001b[0m \u001b[0mPopen\u001b[0m\u001b[0;34m\u001b[0m\u001b[0;34m\u001b[0m\u001b[0m\n\u001b[0;32m--> 284\u001b[0;31m             \u001b[0;32mreturn\u001b[0m \u001b[0mPopen\u001b[0m\u001b[0;34m(\u001b[0m\u001b[0mprocess_obj\u001b[0m\u001b[0;34m)\u001b[0m\u001b[0;34m\u001b[0m\u001b[0;34m\u001b[0m\u001b[0m\n\u001b[0m\u001b[1;32m    285\u001b[0m \u001b[0;34m\u001b[0m\u001b[0m\n\u001b[1;32m    286\u001b[0m     \u001b[0;32mclass\u001b[0m \u001b[0mForkServerProcess\u001b[0m\u001b[0;34m(\u001b[0m\u001b[0mprocess\u001b[0m\u001b[0;34m.\u001b[0m\u001b[0mBaseProcess\u001b[0m\u001b[0;34m)\u001b[0m\u001b[0;34m:\u001b[0m\u001b[0;34m\u001b[0m\u001b[0;34m\u001b[0m\u001b[0m\n",
            "\u001b[0;32m/opt/anaconda3/lib/python3.8/multiprocessing/popen_spawn_posix.py\u001b[0m in \u001b[0;36m__init__\u001b[0;34m(self, process_obj)\u001b[0m\n\u001b[1;32m     30\u001b[0m     \u001b[0;32mdef\u001b[0m \u001b[0m__init__\u001b[0m\u001b[0;34m(\u001b[0m\u001b[0mself\u001b[0m\u001b[0;34m,\u001b[0m \u001b[0mprocess_obj\u001b[0m\u001b[0;34m)\u001b[0m\u001b[0;34m:\u001b[0m\u001b[0;34m\u001b[0m\u001b[0;34m\u001b[0m\u001b[0m\n\u001b[1;32m     31\u001b[0m         \u001b[0mself\u001b[0m\u001b[0;34m.\u001b[0m\u001b[0m_fds\u001b[0m \u001b[0;34m=\u001b[0m \u001b[0;34m[\u001b[0m\u001b[0;34m]\u001b[0m\u001b[0;34m\u001b[0m\u001b[0;34m\u001b[0m\u001b[0m\n\u001b[0;32m---> 32\u001b[0;31m         \u001b[0msuper\u001b[0m\u001b[0;34m(\u001b[0m\u001b[0;34m)\u001b[0m\u001b[0;34m.\u001b[0m\u001b[0m__init__\u001b[0m\u001b[0;34m(\u001b[0m\u001b[0mprocess_obj\u001b[0m\u001b[0;34m)\u001b[0m\u001b[0;34m\u001b[0m\u001b[0;34m\u001b[0m\u001b[0m\n\u001b[0m\u001b[1;32m     33\u001b[0m \u001b[0;34m\u001b[0m\u001b[0m\n\u001b[1;32m     34\u001b[0m     \u001b[0;32mdef\u001b[0m \u001b[0mduplicate_for_child\u001b[0m\u001b[0;34m(\u001b[0m\u001b[0mself\u001b[0m\u001b[0;34m,\u001b[0m \u001b[0mfd\u001b[0m\u001b[0;34m)\u001b[0m\u001b[0;34m:\u001b[0m\u001b[0;34m\u001b[0m\u001b[0;34m\u001b[0m\u001b[0m\n",
            "\u001b[0;32m/opt/anaconda3/lib/python3.8/multiprocessing/popen_fork.py\u001b[0m in \u001b[0;36m__init__\u001b[0;34m(self, process_obj)\u001b[0m\n\u001b[1;32m     17\u001b[0m         \u001b[0mself\u001b[0m\u001b[0;34m.\u001b[0m\u001b[0mreturncode\u001b[0m \u001b[0;34m=\u001b[0m \u001b[0;32mNone\u001b[0m\u001b[0;34m\u001b[0m\u001b[0;34m\u001b[0m\u001b[0m\n\u001b[1;32m     18\u001b[0m         \u001b[0mself\u001b[0m\u001b[0;34m.\u001b[0m\u001b[0mfinalizer\u001b[0m \u001b[0;34m=\u001b[0m \u001b[0;32mNone\u001b[0m\u001b[0;34m\u001b[0m\u001b[0;34m\u001b[0m\u001b[0m\n\u001b[0;32m---> 19\u001b[0;31m         \u001b[0mself\u001b[0m\u001b[0;34m.\u001b[0m\u001b[0m_launch\u001b[0m\u001b[0;34m(\u001b[0m\u001b[0mprocess_obj\u001b[0m\u001b[0;34m)\u001b[0m\u001b[0;34m\u001b[0m\u001b[0;34m\u001b[0m\u001b[0m\n\u001b[0m\u001b[1;32m     20\u001b[0m \u001b[0;34m\u001b[0m\u001b[0m\n\u001b[1;32m     21\u001b[0m     \u001b[0;32mdef\u001b[0m \u001b[0mduplicate_for_child\u001b[0m\u001b[0;34m(\u001b[0m\u001b[0mself\u001b[0m\u001b[0;34m,\u001b[0m \u001b[0mfd\u001b[0m\u001b[0;34m)\u001b[0m\u001b[0;34m:\u001b[0m\u001b[0;34m\u001b[0m\u001b[0;34m\u001b[0m\u001b[0m\n",
            "\u001b[0;32m/opt/anaconda3/lib/python3.8/multiprocessing/popen_spawn_posix.py\u001b[0m in \u001b[0;36m_launch\u001b[0;34m(self, process_obj)\u001b[0m\n\u001b[1;32m     60\u001b[0m             \u001b[0mself\u001b[0m\u001b[0;34m.\u001b[0m\u001b[0msentinel\u001b[0m \u001b[0;34m=\u001b[0m \u001b[0mparent_r\u001b[0m\u001b[0;34m\u001b[0m\u001b[0;34m\u001b[0m\u001b[0m\n\u001b[1;32m     61\u001b[0m             \u001b[0;32mwith\u001b[0m \u001b[0mopen\u001b[0m\u001b[0;34m(\u001b[0m\u001b[0mparent_w\u001b[0m\u001b[0;34m,\u001b[0m \u001b[0;34m'wb'\u001b[0m\u001b[0;34m,\u001b[0m \u001b[0mclosefd\u001b[0m\u001b[0;34m=\u001b[0m\u001b[0;32mFalse\u001b[0m\u001b[0;34m)\u001b[0m \u001b[0;32mas\u001b[0m \u001b[0mf\u001b[0m\u001b[0;34m:\u001b[0m\u001b[0;34m\u001b[0m\u001b[0;34m\u001b[0m\u001b[0m\n\u001b[0;32m---> 62\u001b[0;31m                 \u001b[0mf\u001b[0m\u001b[0;34m.\u001b[0m\u001b[0mwrite\u001b[0m\u001b[0;34m(\u001b[0m\u001b[0mfp\u001b[0m\u001b[0;34m.\u001b[0m\u001b[0mgetbuffer\u001b[0m\u001b[0;34m(\u001b[0m\u001b[0;34m)\u001b[0m\u001b[0;34m)\u001b[0m\u001b[0;34m\u001b[0m\u001b[0;34m\u001b[0m\u001b[0m\n\u001b[0m\u001b[1;32m     63\u001b[0m         \u001b[0;32mfinally\u001b[0m\u001b[0;34m:\u001b[0m\u001b[0;34m\u001b[0m\u001b[0;34m\u001b[0m\u001b[0m\n\u001b[1;32m     64\u001b[0m             \u001b[0mfds_to_close\u001b[0m \u001b[0;34m=\u001b[0m \u001b[0;34m[\u001b[0m\u001b[0;34m]\u001b[0m\u001b[0;34m\u001b[0m\u001b[0;34m\u001b[0m\u001b[0m\n",
            "\u001b[0;31mKeyboardInterrupt\u001b[0m: "
          ]
        }
      ],
      "source": [
        "checkpoint_path = None\n",
        "start_epoch = 0\n",
        "epochs = 10\n",
        "\n",
        "checkpoint_path = train(vgg16,optimizer, start_epoch, epochs)\n",
        "vgg16, optimizer, start_epoch = load_checkpoint(vgg16, optimizer,filename=checkpoint_path)"
      ]
    },
    {
      "cell_type": "code",
      "execution_count": null,
      "metadata": {
        "id": "R-ZbVFtCKe63"
      },
      "outputs": [],
      "source": [
        "checkpoint_path = train(vgg16, optimizer,start_epoch,epochs)\n",
        "vgg16, optimizer, start_epoch = load_checkpoint(vgg16, optimizer,filename=checkpoint_path)"
      ]
    },
    {
      "cell_type": "code",
      "execution_count": null,
      "metadata": {
        "id": "XPXb3r-BPDA5"
      },
      "outputs": [],
      "source": [
        "checkpoint_path = train(vgg16, optimizer,start_epoch,epochs)\n",
        "vgg16, optimizer, start_epoch = load_checkpoint(vgg16, optimizer,filename=checkpoint_path)"
      ]
    },
    {
      "cell_type": "code",
      "execution_count": null,
      "metadata": {
        "id": "9ualyDVXPDtr"
      },
      "outputs": [],
      "source": [
        "checkpoint_path = train(vgg16, optimizer,start_epoch,epochs)\n",
        "vgg16, optimizer, start_epoch = load_checkpoint(vgg16, optimizer,filename=checkpoint_path)"
      ]
    },
    {
      "cell_type": "code",
      "execution_count": null,
      "metadata": {
        "id": "C7ybCQO2PEWf"
      },
      "outputs": [],
      "source": [
        "checkpoint_path = train(vgg16, optimizer,start_epoch,epochs)\n",
        "vgg16, optimizer, start_epoch = load_checkpoint(vgg16, optimizer,filename=checkpoint_path)"
      ]
    },
    {
      "cell_type": "code",
      "execution_count": null,
      "metadata": {
        "id": "G2gSDm7aJ5rM"
      },
      "outputs": [],
      "source": [
        "torch.save(vgg16.state_dict(), 'drive/MyDrive/sustainable_dataset/new_vgg16_bn.pth')"
      ]
    },
    {
      "cell_type": "code",
      "execution_count": null,
      "metadata": {
        "id": "T-IoqM_UJ9OZ"
      },
      "outputs": [],
      "source": [
        "def test(vgg16):\n",
        "    vgg16.eval()\n",
        "    test_loss = 0\n",
        "    correct = 0\n",
        "    with torch.no_grad():\n",
        "        for data, target in test_dataloader:\n",
        "            data, target = data.to(device), target.to(device)\n",
        "            output = vgg16(data)\n",
        "            test_loss = criterion(output, target)\n",
        "            pred = output.data.max(1, keepdim=True)[1]\n",
        "            correct += pred.eq(target.data.view_as(pred)).sum().item()\n",
        "\n",
        "        test_loss /= len(test_dataloader.dataset)\n",
        "        accuracy = 100. * correct / len(test_dataloader.dataset)\n",
        "        print(f'Test set: Average loss: {test_loss:.4f}, Accuracy: {correct}/{len(test_dataloader.dataset)} ({accuracy:.2f}%)')\n",
        "    return accuracy"
      ]
    },
    {
      "cell_type": "code",
      "execution_count": null,
      "metadata": {
        "id": "zkA2QxRLTc9f"
      },
      "outputs": [],
      "source": [
        "test(vgg16)"
      ]
    }
  ],
  "metadata": {
    "accelerator": "GPU",
    "colab": {
      "collapsed_sections": [],
      "name": "transfer_learning.ipynb",
      "provenance": []
    },
    "interpreter": {
      "hash": "40d3a090f54c6569ab1632332b64b2c03c39dcf918b08424e98f38b5ae0af88f"
    },
    "kernelspec": {
      "display_name": "Python 3.8.8 64-bit ('base': conda)",
      "name": "python3"
    },
    "language_info": {
      "codemirror_mode": {
        "name": "ipython",
        "version": 3
      },
      "file_extension": ".py",
      "mimetype": "text/x-python",
      "name": "python",
      "nbconvert_exporter": "python",
      "pygments_lexer": "ipython3",
      "version": "3.8.8"
    }
  },
  "nbformat": 4,
  "nbformat_minor": 0
}
